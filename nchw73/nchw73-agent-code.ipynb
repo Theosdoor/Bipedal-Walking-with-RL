{
 "cells": [
  {
   "cell_type": "markdown",
   "metadata": {
    "id": "QTNU1mwGB1ZD"
   },
   "source": [
    "**Dependencies and imports**\n",
    "\n",
    "This can take a minute..."
   ]
  },
  {
   "cell_type": "markdown",
   "metadata": {
    "id": "zyOJa8oZPjGq"
   },
   "source": [
    "https://arena-chapter2-rl.streamlit.app/[2.2]_Q-Learning_and_DQN"
   ]
  },
  {
   "cell_type": "code",
   "execution_count": 1,
   "metadata": {
    "colab": {
     "base_uri": "https://localhost:8080/"
    },
    "id": "DSSUGAJsTLOV",
    "outputId": "875609e2-e3eb-4b29-c03c-1989820b1ea7"
   },
   "outputs": [
    {
     "name": "stdout",
     "output_type": "stream",
     "text": [
      "Requirement already satisfied: swig in /home2/nchw73/myjupyterenv/lib/python3.9/site-packages (4.3.0)\n",
      "Requirement already satisfied: torchinfo in /home2/nchw73/myjupyterenv/lib/python3.9/site-packages (1.8.0)\n"
     ]
    }
   ],
   "source": [
    "# https://github.com/robert-lieck/rldurham/tree/main - rldurham repo\n",
    "\n",
    "!pip install swig\n",
    "# !pip install --upgrade rldurham\n",
    "!pip install torchinfo"
   ]
  },
  {
   "cell_type": "code",
   "execution_count": 2,
   "metadata": {
    "id": "AFrqd24JTLOW"
   },
   "outputs": [],
   "source": [
    "import math\n",
    "import random\n",
    "\n",
    "# Jinghao\n",
    "import os\n",
    "import copy\n",
    "from datetime import datetime\n",
    "\n",
    "import numpy as np # consider switching out for torch\n",
    "import torch\n",
    "import torch.optim as optim\n",
    "import torch.nn as nn\n",
    "import torch.nn.functional as F\n",
    "from torch.distributions import Normal\n",
    "import rldurham as rld\n",
    "\n",
    "from torchinfo import summary"
   ]
  },
  {
   "cell_type": "markdown",
   "metadata": {
    "id": "UJHtclV_30Re"
   },
   "source": [
    "**Reinforcement learning agent**"
   ]
  },
  {
   "cell_type": "markdown",
   "metadata": {
    "id": "EkDif1GF-Swa"
   },
   "source": [
    "NOTE - I used [this implementation](https://github.com/XinJingHao/TD3-Pytorch/blob/main/TD3.py) of a TD3 agent, which I informally refer to as 'Jinghao' in comments."
   ]
  },
  {
   "cell_type": "code",
   "execution_count": 3,
   "metadata": {
    "id": "4jXNHP8_U-rn"
   },
   "outputs": [],
   "source": [
    "# class Agent(torch.nn.Module):\n",
    "#     def __init__(self):\n",
    "#         super(Agent, self).__init__()\n",
    "\n",
    "#     def sample_action(self, s):\n",
    "#         return torch.rand(act_dim) * 2 - 1 # uniform random in [-1, 1]\n",
    "\n",
    "#     def put_data(self, action, observation, reward):\n",
    "#         pass\n",
    "\n",
    "#     def train(self):\n",
    "#         pass"
   ]
  },
  {
   "cell_type": "code",
   "execution_count": 4,
   "metadata": {
    "id": "8YWZaW-YoT2j"
   },
   "outputs": [],
   "source": [
    "# https://github.com/XinJingHao/TD3-Pytorch/blob/main/TD3.py\n",
    "\n",
    "# helper fns\n",
    "\n",
    "def evaluate_policy(env, agent, turns=3):\n",
    "    total_scores = 0\n",
    "    for i in range(turns):\n",
    "        s, _ = env.reset()\n",
    "        for t in range(2000): # 2000 = max_timesteps (TODO - diff from Jinghao's imp)\n",
    "            # Take deterministic actions at test time\n",
    "            a = agent.select_action(s, deterministic=True)\n",
    "            s_next, r, dw, tr, _ = env.step(a)\n",
    "            done = (dw or tr)\n",
    "\n",
    "            total_scores += r\n",
    "            s = s_next\n",
    "\n",
    "            if done:\n",
    "                break\n",
    "\n",
    "    return int(total_scores / turns)\n",
    "\n",
    "def adapt_reward(r):\n",
    "    \"\"\"Reward engineering for better training.\"\"\"\n",
    "    # For BipedalWalker (both versions)\n",
    "    if r <= -100:\n",
    "        r = -1\n",
    "    return r"
   ]
  },
  {
   "cell_type": "code",
   "execution_count": 5,
   "metadata": {
    "id": "9kTeUHYL7gU6"
   },
   "outputs": [],
   "source": [
    "# https://github.com/XinJingHao/TD3-Pytorch/blob/main/TD3.py\n",
    "\n",
    "# agent\n",
    "\n",
    "class ReplayBuffer():\n",
    "    def __init__(self, state_dim, action_dim, max_size):\n",
    "        self.max_size = max_size\n",
    "        self.ptr = 0\n",
    "        self.size = 0\n",
    "\n",
    "        self.s = torch.zeros((max_size, state_dim), dtype=torch.float)\n",
    "        self.a = torch.zeros((max_size, action_dim), dtype=torch.float)\n",
    "        self.r = torch.zeros((max_size, 1), dtype=torch.float)\n",
    "        self.s_next = torch.zeros((max_size, state_dim), dtype=torch.float)\n",
    "        self.dw = torch.zeros((max_size, 1), dtype=torch.bool)\n",
    "\n",
    "    def add(self, s, a, r, s_next, dw):\n",
    "        self.s[self.ptr] = torch.from_numpy(s)\n",
    "        self.a[self.ptr] = torch.from_numpy(a) # Note that a is numpy.array\n",
    "        self.r[self.ptr] = r\n",
    "        self.s_next[self.ptr] = torch.from_numpy(s_next)\n",
    "        self.dw[self.ptr] = dw\n",
    "\n",
    "        self.ptr = (self.ptr + 1) % self.max_size  # Overwrite when full\n",
    "        self.size = min(self.size + 1, self.max_size)\n",
    "\n",
    "    def sample(self, batch_size):\n",
    "        ind = torch.randint(0, self.size, size=(batch_size,))\n",
    "        return self.s[ind], self.a[ind], self.r[ind], self.s_next[ind], self.dw[ind]\n"
   ]
  },
  {
   "cell_type": "code",
   "execution_count": 6,
   "metadata": {
    "id": "i35_XJdr9LoC"
   },
   "outputs": [],
   "source": [
    "# https://github.com/XinJingHao/TD3-Pytorch/blob/main/TD3.py\n",
    "\n",
    "# actor and critic\n",
    "class Actor(nn.Module):\n",
    "    def __init__(self, state_dim, action_dim, net_width, maxaction):\n",
    "        super(Actor, self).__init__()\n",
    "        self.l1 = nn.Linear(state_dim, net_width)\n",
    "        self.l2 = nn.Linear(net_width, net_width)\n",
    "        self.l3 = nn.Linear(net_width, action_dim)\n",
    "        self.maxaction = maxaction\n",
    "\n",
    "    def forward(self, state):\n",
    "        a = torch.tanh(self.l1(state))\n",
    "        a = torch.tanh(self.l2(a))\n",
    "        a = torch.tanh(self.l3(a)) * self.maxaction\n",
    "        return a\n",
    "\n",
    "class Double_Q_Critic(nn.Module):\n",
    "    def __init__(self, state_dim, action_dim, net_width):\n",
    "        super(Double_Q_Critic, self).__init__()\n",
    "        # Q1 architecture\n",
    "        self.l1 = nn.Linear(state_dim + action_dim, net_width)\n",
    "        self.l2 = nn.Linear(net_width, net_width)\n",
    "        self.l3 = nn.Linear(net_width, 1)\n",
    "\n",
    "        # Q2 architecture\n",
    "        self.l4 = nn.Linear(state_dim + action_dim, net_width)\n",
    "        self.l5 = nn.Linear(net_width, net_width)\n",
    "        self.l6 = nn.Linear(net_width, 1)\n",
    "\n",
    "    def forward(self, state, action):\n",
    "        sa = torch.cat([state, action], dim=1)\n",
    "\n",
    "        q1 = F.relu(self.l1(sa))\n",
    "        q1 = F.relu(self.l2(q1))\n",
    "        q1 = self.l3(q1)\n",
    "\n",
    "        q2 = F.relu(self.l4(sa))\n",
    "        q2 = F.relu(self.l5(q2))\n",
    "        q2 = self.l6(q2)\n",
    "        return q1, q2\n",
    "\n",
    "    def Q1(self, state, action):\n",
    "        sa = torch.cat([state, action], dim=1)\n",
    "        q1 = F.relu(self.l1(sa))\n",
    "        q1 = F.relu(self.l2(q1))\n",
    "        q1 = self.l3(q1)\n",
    "        return q1\n"
   ]
  },
  {
   "cell_type": "code",
   "execution_count": 7,
   "metadata": {
    "id": "s04vKGU3dNuF"
   },
   "outputs": [],
   "source": [
    "# https://github.com/XinJingHao/TD3-Pytorch/blob/main/TD3.py\n",
    "\n",
    "class TD3_agent():\n",
    "    def __init__(self, **kwargs):\n",
    "        # Init hyperparameters for agent, just like \"self.gamma = opt.gamma, self.lambd = opt.lambd, ...\"\n",
    "        self.__dict__.update(kwargs)\n",
    "        self.policy_noise = 0.2 * self.max_action\n",
    "        self.noise_clip = 0.5 * self.max_action\n",
    "        self.tau = 0.005\n",
    "        self.delay_counter = 0\n",
    "\n",
    "        # Actor network and its target\n",
    "        self.actor = Actor(self.state_dim, self.action_dim, self.net_width, self.max_action)\n",
    "        self.actor_optimizer = torch.optim.Adam(self.actor.parameters(), lr=self.a_lr)\n",
    "        self.actor_target = copy.deepcopy(self.actor)\n",
    "\n",
    "        # Double Q-Critic network and its target\n",
    "        self.q_critic = Double_Q_Critic(self.state_dim, self.action_dim, self.net_width)\n",
    "        self.q_critic_optimizer = torch.optim.Adam(self.q_critic.parameters(), lr=self.c_lr)\n",
    "        self.q_critic_target = copy.deepcopy(self.q_critic)\n",
    "\n",
    "        self.replay_buffer = ReplayBuffer(self.state_dim, self.action_dim, max_size=int(1e6))\n",
    "\n",
    "    def select_action(self, state, deterministic):\n",
    "        with torch.no_grad():\n",
    "            state = torch.FloatTensor(state[np.newaxis, :]) # from [x,x,...,x] to [[x,x,...,x]]\n",
    "            a = self.actor(state).cpu().numpy()[0] # from [[x,x,...,x]] to [x,x,...,x]\n",
    "            if deterministic:\n",
    "                return a\n",
    "            else:\n",
    "                noise = np.random.normal(0, self.max_action * self.explore_noise, size=self.action_dim)\n",
    "                return (a + noise).clip(-self.max_action, self.max_action)\n",
    "\n",
    "    def train(self):\n",
    "        self.delay_counter += 1\n",
    "        with torch.no_grad():\n",
    "            s, a, r, s_next, dw = self.replay_buffer.sample(self.batch_size)\n",
    "\n",
    "            # Compute target Q using target actor and target critic networks\n",
    "            target_a_noise = (torch.randn_like(a) * self.policy_noise).clamp(-self.noise_clip, self.noise_clip)\n",
    "            '''↓↓↓ Target Policy Smoothing Regularization ↓↓↓'''\n",
    "            smoothed_target_a = (self.actor_target(s_next) + target_a_noise).clamp(-self.max_action, self.max_action)\n",
    "            target_Q1, target_Q2 = self.q_critic_target(s_next, smoothed_target_a)\n",
    "            '''↓↓↓ Clipped Double Q-learning ↓↓↓'''\n",
    "            target_Q = torch.min(target_Q1, target_Q2)\n",
    "            target_Q = r + (~dw) * self.gamma * target_Q # dw: die or win\n",
    "\n",
    "        current_Q1, current_Q2 = self.q_critic(s, a) # Get current Q estimates\n",
    "\n",
    "        # Compute critic loss, and optimize the q_critic\n",
    "        q_loss = F.mse_loss(current_Q1, target_Q) + F.mse_loss(current_Q2, target_Q)\n",
    "        self.q_critic_optimizer.zero_grad()\n",
    "        q_loss.backward()\n",
    "        self.q_critic_optimizer.step()\n",
    "\n",
    "        # Delayed policy updates\n",
    "        '''↓↓↓ Clipped Double Q-learning ↓↓↓'''\n",
    "        if self.delay_counter > self.delay_freq:\n",
    "            # Update the Actor\n",
    "            a_loss = -self.q_critic.Q1(s, self.actor(s)).mean()\n",
    "            self.actor_optimizer.zero_grad()\n",
    "            a_loss.backward()\n",
    "            self.actor_optimizer.step()\n",
    "\n",
    "            # Update the frozen target models\n",
    "            with torch.no_grad():\n",
    "                for param, target_param in zip(self.q_critic.parameters(), self.q_critic_target.parameters()):\n",
    "                    target_param.data.copy_(self.tau * param.data + (1 - self.tau) * target_param.data)\n",
    "                for param, target_param in zip(self.actor.parameters(), self.actor_target.parameters()):\n",
    "                    target_param.data.copy_(self.tau * param.data + (1 - self.tau) * target_param.data)\n",
    "            self.delay_counter = 0\n",
    "\n",
    "    def save(self, EnvName, timestep):\n",
    "        torch.save(self.actor.state_dict(), f\"./model/{EnvName}_actor{timestep}.pth\")\n",
    "        torch.save(self.q_critic.state_dict(), f\"./model/{EnvName}_q_critic{timestep}.pth\")\n",
    "\n",
    "    def load(self, EnvName, timestep):\n",
    "        self.actor.load_state_dict(torch.load(f\"./model/{EnvName}_actor{timestep}.pth\"))\n",
    "        self.q_critic.load_state_dict(torch.load(f\"./model/{EnvName}_q_critic{timestep}.pth\"))\n"
   ]
  },
  {
   "cell_type": "markdown",
   "metadata": {
    "id": "QEv4ZjXmyrHo"
   },
   "source": [
    "**Prepare the environment and wrap it to capture statistics, logs, and videos**"
   ]
  },
  {
   "cell_type": "code",
   "execution_count": 8,
   "metadata": {
    "id": "H466HICfpDB1"
   },
   "outputs": [],
   "source": [
    "# https://github.com/XinJingHao/TD3-Pytorch/blob/main/TD3.py\n",
    "\n",
    "params = {\n",
    "  'Loadmodel': False,  # Load pretrained model or Not\n",
    "  'ModelIdex': 30,  # Which model to load\n",
    "  'update_every' : 50,  # Training frequency\n",
    "  'save_interval' : int(1e5),  # Model saving interval, in steps\n",
    "  'eval_interval' : int(2e3),  # Model evaluating interval, in steps\n",
    "  'delay_freq' : 1,  # Delayed frequency for Actor and Target Net\n",
    "  'gamma' : 0.99,  # Discounted Factor\n",
    "  'net_width' : 256,  # Hidden net width\n",
    "  'a_lr' : 1e-4,  # Learning rate of actor\n",
    "  'c_lr' : 1e-4,  # Learning rate of critic\n",
    "  'batch_size' : 256,  # Batch size for training\n",
    "  'explore_noise' : 0.15,  # Exploring noise when interacting\n",
    "  'explore_noise_decay' : 0.998,  # Decay rate of explore noise\n",
    "}"
   ]
  },
  {
   "cell_type": "code",
   "execution_count": 9,
   "metadata": {
    "colab": {
     "base_uri": "https://localhost:8080/",
     "height": 438
    },
    "id": "1Xrcek4hxDXl",
    "outputId": "6161f148-a164-4e22-d97a-f9aa53e7b8b0"
   },
   "outputs": [
    {
     "name": "stderr",
     "output_type": "stream",
     "text": [
      "/home2/nchw73/myjupyterenv/lib/python3.9/site-packages/gymnasium/wrappers/rendering.py:283: UserWarning: \u001b[33mWARN: Overwriting existing videos at /home2/nchw73/Year 3/RL/coursework/videos folder (try specifying a different `video_folder` for the `RecordVideo` wrapper if this is not desired)\u001b[0m\n",
      "  logger.warn(\n"
     ]
    },
    {
     "name": "stdout",
     "output_type": "stream",
     "text": [
      "The device is: cpu (as recommended)\n",
      "actions are continuous with 4 dimensions/#actions\n",
      "observations are continuous with 24 dimensions/#observations\n",
      "maximum timesteps is: None\n"
     ]
    },
    {
     "data": {
      "image/png": "[encoded data removed]",
      "text/plain": [
       "<Figure size 640x480 with 1 Axes>"
      ]
     },
     "metadata": {},
     "output_type": "display_data"
    }
   ],
   "source": [
    "hardcore = True\n",
    "\n",
    "if hardcore == False:\n",
    "  env = rld.make(\"rldurham/Walker\", render_mode=\"rgb_array\")\n",
    "  eval_env = rld.make(\"rldurham/Walker\", render_mode=\"rgb_array\") # TODO Jinghao - maybe necessary to eval policy w/o noise?\n",
    "else:\n",
    "  env = rld.make(\"rldurham/Walker\", render_mode=\"rgb_array\", hardcore=True) # only attempt this when your agent has solved the non-hardcore version\n",
    "  eval_env = rld.make(\"rldurham/Walker\", render_mode=\"rgb_array\", hardcore=True)\n",
    "\n",
    "# get statistics, logs, and videos\n",
    "if hardcore:\n",
    "    vid_prefix = \"nchw73-agent-hardcore-video\"\n",
    "else:\n",
    "    vid_prefix = \"nchw73-agent-video\"\n",
    "    \n",
    "env = rld.Recorder(\n",
    "    env,\n",
    "    smoothing=10,                       # track rolling averages (useful for plotting)\n",
    "    video=True,                         # enable recording videos\n",
    "    video_folder=\"videos\",              # folder for videos\n",
    "    video_prefix=vid_prefix,  # prefix for videos\n",
    "    logs=True,                          # keep logs\n",
    ")\n",
    "\n",
    "# training on CPU recommended\n",
    "rld.check_device()\n",
    "\n",
    "# environment info\n",
    "discrete_act, discrete_obs, act_dim, obs_dim = rld.env_info(env, print_out=True)\n",
    "params['max_action'] = float(env.action_space.high[0]) # Jinghao: this is used to scale the agent's actions to ensure they stay in action space\n",
    "\n",
    "# render start image\n",
    "env.reset(seed=42)\n",
    "rld.render(env)"
   ]
  },
  {
   "cell_type": "markdown",
   "metadata": {
    "id": "QFWjENKkU_My"
   },
   "source": [
    "**Training**"
   ]
  },
  {
   "cell_type": "code",
   "execution_count": 10,
   "metadata": {
    "colab": {
     "base_uri": "https://localhost:8080/"
    },
    "id": "TxRrlDYLU6HG",
    "outputId": "972a134b-ac9b-49dd-dae0-11a9fd436e2f"
   },
   "outputs": [
    {
     "name": "stderr",
     "output_type": "stream",
     "text": [
      "[rank: 0] Seed set to 42\n"
     ]
    }
   ],
   "source": [
    "# in the submission please use seed_everything with seed 42 for verification\n",
    "seed, observation, info = rld.seed_everything(42, env)\n",
    "\n",
    "max_episodes = 100 # at least 100 for setup\n",
    "max_timesteps = 2000 # DO NOT CHANGE\n",
    "max_total_steps = max_episodes * max_timesteps\n",
    "warm_up_steps = 10 * max_timesteps # TODO adjust this to need\n",
    "\n",
    "# for Jinghao format TODO change\n",
    "params['state_dim'] = obs_dim\n",
    "params['action_dim'] = act_dim\n",
    "\n",
    "# track statistics for plotting\n",
    "tracker = rld.InfoTracker()\n",
    "\n",
    "is_recording = True\n",
    "env.video = False # switch video recording off (only switch on every x episodes as this is slow)\n",
    "\n",
    "# initialise agent\n",
    "agent = TD3_agent(**params) # ** unpacks the dictionary into keyword arguments\n",
    "# summary(agent) # torchinfo for parameter breakdown"
   ]
  },
  {
   "cell_type": "code",
   "execution_count": null,
   "metadata": {
    "colab": {
     "base_uri": "https://localhost:8080/",
     "height": 832
    },
    "id": "rDl6ViIDlVOk",
    "outputId": "4068a79b-d730-41f9-9de6-0dcee018c535"
   },
   "outputs": [
    {
     "name": "stdout",
     "output_type": "stream",
     "text": [
      "Ep: 0, Steps: 0k, Episode Reward: -13\n",
      "Ep: 1, Steps: 0k, Episode Reward: -98\n",
      "Ep: 2, Steps: 0k, Episode Reward: -97\n",
      "Ep: 3, Steps: 0k, Episode Reward: -78\n"
     ]
    }
   ],
   "source": [
    "# training procedure\n",
    "total_steps = 0\n",
    "test = True\n",
    "for episode in range(max_episodes):\n",
    "\n",
    "    # recording statistics and video can be switched on and off (video recording is slow!)\n",
    "    if is_recording: # generally get good results after ep 500 on easy\n",
    "        env.info = episode % 10 == 0   # track every x episodes (usually tracking every episode is fine)\n",
    "        env.video = episode % 10 == 0  # record videos every x episodes (set BEFORE calling reset!)\n",
    "\n",
    "    # reset for new episode\n",
    "    observation, info = env.reset()\n",
    "\n",
    "    # run episode\n",
    "    for t in range(max_timesteps):\n",
    "\n",
    "        # select the agent action\n",
    "        if total_steps < warm_up_steps: # warm up period for first x% of steps (NOTE - different to Jinghao imp) TODO check this helps\n",
    "            if not test:\n",
    "                print('warm up... again???')\n",
    "            action = env.action_space.sample() # random actions\n",
    "        else:\n",
    "            if test:\n",
    "              print('warm up over!')\n",
    "              test = False\n",
    "            # action = agent.sample_action(observation)\n",
    "            action = agent.select_action(observation, deterministic=False) # Jinghao TODO\n",
    "\n",
    "        # take action in the environment\n",
    "        next_observation, reward, terminated, truncated, info = env.step(action)\n",
    "\n",
    "        reward = adapt_reward(reward) # Jinghao\n",
    "\n",
    "        # remember\n",
    "        # agent.put_data(action, observation, reward)\n",
    "        agent.replay_buffer.add(observation, action, reward, next_observation, terminated) # Jinghao todo\n",
    "\n",
    "        observation = next_observation # TODO necessary if its just reset next ep?\n",
    "\n",
    "        total_steps += 1\n",
    "\n",
    "        # check whether done\n",
    "        done = terminated or truncated\n",
    "\n",
    "        # TRAIN THE AGENT HERE!\n",
    "        # TODO Jinghao does this as follows in the loop, but template trains after each ep\n",
    "        # Train every 'update_every' steps after an initial period\n",
    "        if (episode >= 1) and (total_steps % params['update_every'] == 0):\n",
    "            for _ in range(params['update_every']):\n",
    "                agent.train()\n",
    "\n",
    "        # stop episode\n",
    "        if done:\n",
    "            break\n",
    "\n",
    "    # Evaluate policy after each episode (TODO Jinghao - JH imp does this every 2000 steps (hyperparam), not necc after each ep)\n",
    "    agent.explore_noise *= params['explore_noise_decay']\n",
    "    ep_reward = evaluate_policy(eval_env, agent, turns=3)\n",
    "    print(f'Ep: {episode}, Steps: {total_steps//1000}k, Episode Reward: {ep_reward}')\n",
    "\n",
    "    # track and plot statistics\n",
    "    tracker.track(info)\n",
    "    if (episode + 1) % 10 == 0:\n",
    "        tracker.plot(r_mean_=True, r_std_=True, r_sum=dict(linestyle=':', marker='x'))\n",
    "\n",
    "# don't forget to close environment (e.g. triggers last video save)\n",
    "env.close()\n",
    "eval_env.close()\n",
    "\n",
    "# write log file (for coursework)\n",
    "if hardcore:\n",
    "    filename = \"nchw73-agent-hardcore-log.txt\"\n",
    "else:\n",
    "    filename = \"nchw73-agent-log.txt\"\n",
    "env.write_log(folder=\"logs\", file=filename)\n"
   ]
  },
  {
   "cell_type": "code",
   "execution_count": null,
   "metadata": {
    "id": "X7fuO3i5_IgR"
   },
   "outputs": [],
   "source": []
  },
  {
   "cell_type": "markdown",
   "metadata": {
    "id": "nUgcPaSl_GPd"
   },
   "source": [
    "##  Demo"
   ]
  },
  {
   "cell_type": "markdown",
   "metadata": {
    "id": "qF3VpYkaTLOY"
   },
   "source": [
    "A small demo with a predefined heuristic that is suboptimal and has no notion of balance (and is designed for the orignal BipedalWalker environment)..."
   ]
  },
  {
   "cell_type": "code",
   "execution_count": null,
   "metadata": {
    "id": "ZLr7xO8aTLOY"
   },
   "outputs": [],
   "source": [
    "from gymnasium.envs.box2d.bipedal_walker import BipedalWalkerHeuristics\n",
    "\n",
    "env = rld.make(\n",
    "    \"rldurham/Walker\",\n",
    "    # \"BipedalWalker-v3\",\n",
    "    render_mode=\"human\",\n",
    "    # render_mode=\"rgb_array\",\n",
    "    hardcore=False,\n",
    "    # hardcore=True,\n",
    ")\n",
    "_, obs, info = rld.seed_everything(42, env)\n",
    "# track statistics for plotting\n",
    "tracker2 = rld.InfoTracker()\n",
    "\n",
    "heuristics = BipedalWalkerHeuristics()\n",
    "\n",
    "act = heuristics.step_heuristic(obs)\n",
    "for i in range(500):\n",
    "    obs, rew, terminated, truncated, info = env.step(act)\n",
    "    act = heuristics.step_heuristic(obs)\n",
    "    if terminated or truncated:\n",
    "        break\n",
    "    if env.render_mode == \"rgb_array\":\n",
    "        rld.render(env, clear=True)\n",
    "\n",
    "    # track and plot statistics\n",
    "    tracker2.track(info)\n",
    "    if (i + 1) % 10 == 0:\n",
    "        tracker2.plot(r_mean_=True, r_std_=True, r_sum=dict(linestyle=':', marker='x'))\n",
    "env.close()"
   ]
  }
 ],
 "metadata": {
  "colab": {
   "provenance": []
  },
  "kernelspec": {
   "display_name": "mykernel",
   "language": "python",
   "name": "mykernel"
  },
  "language_info": {
   "codemirror_mode": {
    "name": "ipython",
    "version": 3
   },
   "file_extension": ".py",
   "mimetype": "text/x-python",
   "name": "python",
   "nbconvert_exporter": "python",
   "pygments_lexer": "ipython3",
   "version": "3.9.19"
  }
 },
 "nbformat": 4,
 "nbformat_minor": 1
}
